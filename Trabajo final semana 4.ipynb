{
 "cells": [
  {
   "cell_type": "code",
   "execution_count": 1,
   "id": "233ed10f",
   "metadata": {},
   "outputs": [],
   "source": [
    "#DESCRIPCIÓN DEL PROBLEMA Y DISCUSIÓN DE ANTECEDENTES: \n",
    "#En el siguiente estudio se analizará cuál es la mejor área para iniciar un negocio\n",
    "#de acuerdo a los lugares con mayor densidad y flujo comercial, así como, los puntos de \n",
    "#interés que presenta el área de Manhattan.\n",
    "#Se analizará primero de forma genérica cuáles son las zonas mas concurridas y con mayores puntos de interés,\n",
    "#y luego, se filtrarán las zonas de acuerdo al tipo de negocio que el cliente esté interesado en iniciar."
   ]
  },
  {
   "cell_type": "code",
   "execution_count": 3,
   "id": "e9b661c5",
   "metadata": {},
   "outputs": [],
   "source": [
    "#DESCRIPCIÓN DE LOS DATOS Y CÓMO SE UTILIZAN EN EL PRESENTE ESTUDIO:\n",
    "# Primero nos valdremos de los datos de la API de Google Places que nos brindará la información de los puntos de interés y los\n",
    "#establecimientos existentes, lo cual ayudará a vislumbrar las áreas con mayor densidad y flujo comercial a través \n",
    "# del análisis que nos arrojará el estudio de clustering con el método de k-medias.\n",
    "#Se analizará mediante un gráfico de barras, la distribución cuantitativa de los clusters, luego nos valdremos del análisis\n",
    "#mediante la librería de Folium para ubicar dónde están dichos clusters y así poder vislumbrar cuáles son las áreas \n",
    "#con mayor flujo comercial. Esto se realizará, primero, de forma genérica, es decir, para un estudio netamente\n",
    "#de densidad respecto a las áreas más comerciales y, posteriormente, se filtrarán los resultados de acuerdo a potenciales \n",
    "#clientes que necesitan saber en qué area montar su negocio, teniendo en cuenta no solo el flujo comercial general, \n",
    "#sino áreas específicas de interés como es la cercanía a colegios si el negocio a montar es una librería, o la cercanía \n",
    "#a un parque si el negocio es un local de alimentos saludables."
   ]
  }
 ],
 "metadata": {
  "kernelspec": {
   "display_name": "Python 3 (ipykernel)",
   "language": "python",
   "name": "python3"
  },
  "language_info": {
   "codemirror_mode": {
    "name": "ipython",
    "version": 3
   },
   "file_extension": ".py",
   "mimetype": "text/x-python",
   "name": "python",
   "nbconvert_exporter": "python",
   "pygments_lexer": "ipython3",
   "version": "3.9.12"
  }
 },
 "nbformat": 4,
 "nbformat_minor": 5
}
